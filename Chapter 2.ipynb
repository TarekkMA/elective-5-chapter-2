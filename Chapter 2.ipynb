{
 "cells": [
  {
   "cell_type": "markdown",
   "metadata": {},
   "source": [
    "### Q: Why is multithreading needed? How can multiple threads run simultaneously in a single-processor system?\n",
    "Multithreading can make your program more responsive and interactive, and enhance the performance. Multithreading is needed in many situations, such as animation and client/server computing. Because most of the time the CPU is idle--for example, the CPU is doing nothing while the user enters data--it is practical for multiple threads to share the CPU time in single processor systems."
   ]
  },
  {
   "cell_type": "markdown",
   "metadata": {},
   "source": [
    "### Q: How do you define a task class? How do you create a thread for a task?\n",
    "You can create a task classes by implementing the Runnable interface and create a thread for a task using the constructor new Thread(task)."
   ]
  },
  {
   "cell_type": "markdown",
   "metadata": {},
   "source": [
    "### Q: What is worng in the following code? Correct the errors\n",
    "![1.png](1.png)\n",
    "\n",
    "\n",
    "\n",
    "`Test task = new Test();` has a execution error that is a StackOverflowError. This is because it is called recursively in its constructor.\n",
    "```java\n",
    "\\\\corrected\n",
    "public class Test implements Runnable {\n",
    "    public static void main(String[] args) { \n",
    "        new Test();\n",
    "    }\n",
    "    public Test(){\n",
    "        Thread task = new Thread(this); task.start();\n",
    "    }\n",
    "    public void run() { System.out.println(\"test\"); }\n",
    "}\n",
    "```"
   ]
  },
  {
   "cell_type": "markdown",
   "metadata": {},
   "source": [
    "### Q: What is worng in the following code? Correct the errors\n",
    "![2.png](2.png)\n",
    "\n",
    "\n",
    "The second `t.start();` has a execution that is a IllegalThreadStateException. This is because the same thread cannot start concurrently in more than one.\n",
    "**Correction: remove one of the `t.start();`**"
   ]
  },
  {
   "cell_type": "markdown",
   "metadata": {},
   "source": [
    "### Q: Which of the following methods are instance methods in java.lang.Thread? Which method may throw an InterruptedException? Which of them are deprecated in Java? \n",
    "* run\n",
    "* start\n",
    "* stop\n",
    "* suspend\n",
    "* resume\n",
    "* sleep\n",
    "* interrupt\n",
    "* yield\n",
    "* join\n",
    "\n",
    "A: \n",
    "- All methods above except yield and sleep are instace methods\n",
    "- sleep and join may throw\n",
    "- stop and suspend and resume are deprecated in JDK 1.2\n"
   ]
  },
  {
   "cell_type": "markdown",
   "metadata": {},
   "source": [
    "### Q: If a loop contains a method that throws an InterruptedException, why should the loop be placed inside a try-catch block?\n",
    "If the loop is outside the try-catch block, the thread may continue to execute even though it is being interrupted."
   ]
  },
  {
   "cell_type": "markdown",
   "metadata": {},
   "source": [
    "### Q: How do you set a priority for a thread? What is the default priority?\n",
    "You use the `setPriority()` method to set the priority for a thread. The\n",
    "default priority of the thread is `Thread.NORM_PRIORITY` (5).\n"
   ]
  },
  {
   "cell_type": "markdown",
   "metadata": {},
   "source": [
    "### Q: What are the benefits of using a thread pool?\n",
    "You can create a thread for each task. This approach is convenient for a single task execution, but it is not efficient for a large number of tasks, because you have to create a thread for each task. Starting a new thread for each task could limit throughput and cause poor performance. A thread pool is ideal to manage the number of tasks executing concurrently"
   ]
  },
  {
   "cell_type": "markdown",
   "metadata": {},
   "source": [
    "### Q: How do you create a thread pool with three fixed threads? How do you submit a task to a thread pool? How do you know that all the tasks are finished?\n",
    "To create a thread pool with three threads, use\n",
    "```java\n",
    "ExecutorService executor = Executors.newFixedThreadPool(3);\n",
    "```\n",
    "To submit a task, use\n",
    "```java\n",
    "executor.execute(task);\n",
    "```\n",
    "To check whether all tasks in a the pool are finished, invoke isTerminated() method."
   ]
  },
  {
   "cell_type": "markdown",
   "metadata": {},
   "source": [
    "### Q: How do you create a lock object? How do you acquire a lock and release a lock?\n",
    "To create a lock, use the `new ReentrantLock()`. To acquire the lock, invoke its `lock()` method and to release it, invoke its `unlock()` method\n"
   ]
  },
  {
   "cell_type": "markdown",
   "metadata": {},
   "source": [
    "### Q: How do you create a condition on a lock? What are the `await()`, `signal()`, and `signalAll()` methods for?\n",
    "A condition on a lock can be created using `lock.newCondition()`. The `await()` method causes the current thread to wait until the condition is signaled. The `signal()` method wakes up one waiting thread, and the `signalAll()` method wakes up all waiting threads"
   ]
  },
  {
   "cell_type": "markdown",
   "metadata": {},
   "source": [
    "### Q: What is a possible cause for IllegalMonitorStateException?\n",
    "If you invoke the methods on a condition without first acquiring a lock for the condition, an IllegalMonitorStateException would be thrown."
   ]
  },
  {
   "cell_type": "markdown",
   "metadata": {},
   "source": [
    "### Q: Can the `wait()`, `notify()`, and `notifyAll()` be invoked from any object? What is the purpose of these methods\n",
    "Yes. These methods are defined in the Object class and they are used for thread communication.\n"
   ]
  },
  {
   "cell_type": "markdown",
   "metadata": {},
   "source": [
    "### Q: What method do you use to retrieve an element from an ArrayBlockingQueue? What happens if the queue is empty?\n",
    "Use `take()` method to retrieve an element from the queue. If the queue is empty, the thread is blocked"
   ]
  },
  {
   "cell_type": "markdown",
   "metadata": {},
   "source": [
    "### Q: What are the similarities and differences between a lock and a semaphore?\n",
    "Lock and semaphore can both be used to restrict access to a shared resource. Using a lock on a resource ensures only one thread can access it. Using a semaphore on a resource allows one or more specified number of threads to access a resource.\n"
   ]
  },
  {
   "cell_type": "markdown",
   "metadata": {},
   "source": [
    "### Q: How do you create a semaphore that allows three concurrent threads? How do you acquire a semaphore? How do you release a semaphore?\n",
    "\n",
    "Use `new Semaphore(numberOfPermits)` to create a semaphore. Invoking `aquire()` to get a semaphore and invoking `release()` to release a semaphore."
   ]
  },
  {
   "cell_type": "markdown",
   "metadata": {},
   "source": [
    "### Q: What is a deadlock? How can you avoid deadlock?\n",
    "Deadlock occurs in the case that two or more threads acquire locks on multiple objects and each has the lock on one object and is waiting for the lock on the other object. The resource ordering technique can be used to avoid deadlock."
   ]
  },
  {
   "cell_type": "markdown",
   "metadata": {},
   "source": [
    "### Q: What is a synchronized collection? Is ArrayList synchronized? How do you make it synchronized?\n",
    "A synchronized collection is thread-safe, i.e., it can be accessed by multiple threads concurrently without being corrupted. ArrayList is not thread-safe. There are several ways to make it safe. You may obtain a lock before accessing it, or use the `Collections.synchronizedList(list)` to return a synchronized list.\n"
   ]
  },
  {
   "cell_type": "markdown",
   "metadata": {},
   "source": [
    "### Q: Explain why an iterator is fail-fast.\n",
    "An iterator is fail-fast. This means that if you are using an iterator to traverse a collection while the underlying collection is being modified by another thread, then the iterator will immediately fail by throwing `java.util.ConcurrentModificationException`.\n"
   ]
  },
  {
   "cell_type": "markdown",
   "metadata": {},
   "source": [
    "### Q: How do you define a ForkJoinTask? What are the differences between `RecursiveAction` and `RecursiveTask`?\n",
    "\n",
    "To define a ForkJoinTask, define a class that extends RecursiveAction or RecursiveTask. RecursiveAction is for a task that doesn’t return a value and RecursiveTask is for a task that returns a value"
   ]
  }
 ],
 "metadata": {
  "kernelspec": {
   "display_name": "Java",
   "language": "java",
   "name": "java"
  },
  "language_info": {
   "codemirror_mode": "java",
   "file_extension": ".jshell",
   "mimetype": "text/x-java-source",
   "name": "Java",
   "pygments_lexer": "java",
   "version": "14.0.2+12-46"
  }
 },
 "nbformat": 4,
 "nbformat_minor": 4
}
